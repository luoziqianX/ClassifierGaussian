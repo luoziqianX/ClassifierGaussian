{
 "cells": [
  {
   "cell_type": "code",
   "execution_count": 1,
   "metadata": {},
   "outputs": [],
   "source": [
    "import torch\n",
    "import torch.nn as nn"
   ]
  },
  {
   "cell_type": "code",
   "execution_count": 2,
   "metadata": {},
   "outputs": [],
   "source": [
    "device = \"cuda:1\""
   ]
  },
  {
   "cell_type": "markdown",
   "metadata": {},
   "source": [
    "# Volume to Triplane"
   ]
  },
  {
   "cell_type": "code",
   "execution_count": 3,
   "metadata": {},
   "outputs": [
    {
     "name": "stdout",
     "output_type": "stream",
     "text": [
      "FORCE_MEM_EFFICIENT_ATTN= 0 @UNET:QKVATTENTION\n"
     ]
    }
   ],
   "source": [
    "from model.unet import conv_nd, normalization, get_activation, zero_module, Upsample, Downsample,TimestepBlock\n",
    "class ResBlock(TimestepBlock):\n",
    "    \"\"\"\n",
    "    A residual block that can optionally change the number of channels.\n",
    "    :param channels: the number of input channels.\n",
    "    :param emb_channels: the number of timestep embedding channels.\n",
    "    :param dropout: the rate of dropout.\n",
    "    :param out_channels: specified, the number of out channels.\n",
    "    :param use_conv: True and out_channels is specified, use a spatial\n",
    "        convolution instead of a smaller 1x1 convolution to change the\n",
    "        channels in the skip connection.\n",
    "    :param dims: determines the signal is 1D, 2D, or 3D.\n",
    "    :param up: True, use this block for upsampling.\n",
    "    :param down: True, use this block for downsampling.\n",
    "    \"\"\"\n",
    "\n",
    "    def __init__(\n",
    "            self,\n",
    "            channels,\n",
    "            dropout,\n",
    "            activation,\n",
    "            out_channels=None,\n",
    "            use_conv=False,\n",
    "            dims=2,\n",
    "            up=False,\n",
    "            down=False,\n",
    "            dtype=None,\n",
    "            scale_skip_connection=False,\n",
    "    ):\n",
    "        super().__init__()\n",
    "        self.dtype = dtype\n",
    "        self.channels = channels\n",
    "        self.dropout = dropout\n",
    "        self.out_channels = out_channels or channels\n",
    "        self.use_conv = use_conv\n",
    "        self.scale_skip_connection = scale_skip_connection\n",
    "\n",
    "        self.in_layers = nn.Sequential(\n",
    "            normalization(channels, dtype=self.dtype),\n",
    "            get_activation(activation),\n",
    "            conv_nd(dims, channels, self.out_channels, 3, padding=1, dtype=self.dtype),\n",
    "        )\n",
    "\n",
    "        self.updown = up or down\n",
    "\n",
    "        if up:\n",
    "            self.h_upd = Upsample(channels, False, dims, dtype=self.dtype)\n",
    "            self.x_upd = Upsample(channels, False, dims, dtype=self.dtype)\n",
    "        elif down:\n",
    "            self.h_upd = Downsample(channels, False, dims, dtype=self.dtype)\n",
    "            self.x_upd = Downsample(channels, False, dims, dtype=self.dtype)\n",
    "        else:\n",
    "            self.h_upd = self.x_upd = nn.Identity()\n",
    "\n",
    "        self.out_layers = nn.Sequential(\n",
    "            normalization(self.out_channels, dtype=self.dtype),\n",
    "            get_activation(activation),\n",
    "            nn.Dropout(p=dropout),\n",
    "            zero_module(conv_nd(dims, self.out_channels, self.out_channels, 3, padding=1, dtype=self.dtype)),\n",
    "        )\n",
    "\n",
    "        if self.out_channels == channels:\n",
    "            self.skip_connection = nn.Identity()\n",
    "        elif use_conv:\n",
    "            self.skip_connection = conv_nd(dims, channels, self.out_channels, 3, padding=1, dtype=self.dtype)\n",
    "        else:\n",
    "            self.skip_connection = conv_nd(dims, channels, self.out_channels, 1, dtype=self.dtype)\n",
    "\n",
    "    def forward(self, x):\n",
    "        \"\"\"\n",
    "        Apply the block to a Tensor, conditioned on a timestep embedding.\n",
    "        :param x: an [N x C x ...] Tensor of features.\n",
    "        :param emb: an [N x emb_channels] Tensor of timestep embeddings.\n",
    "        :return: an [N x C x ...] Tensor of outputs.\n",
    "        \"\"\"\n",
    "        if self.updown:\n",
    "            in_rest, in_conv = self.in_layers[:-1], self.in_layers[-1]\n",
    "            h = in_rest(x)\n",
    "            h = self.h_upd(h)\n",
    "            x = self.x_upd(x)\n",
    "            h = in_conv(h)\n",
    "        else:\n",
    "            h = self.in_layers(x)\n",
    "\n",
    "        h = self.out_layers(h)\n",
    "\n",
    "        res = self.skip_connection(x) + h\n",
    "        if self.scale_skip_connection:\n",
    "            res *= 0.7071  # 1 / sqrt(2), https://arxiv.org/pdf/2104.07636.pdf\n",
    "        return res"
   ]
  },
  {
   "cell_type": "code",
   "execution_count": 4,
   "metadata": {},
   "outputs": [
    {
     "data": {
      "text/plain": [
       "torch.Size([1, 64, 16, 16])"
      ]
     },
     "execution_count": 4,
     "metadata": {},
     "output_type": "execute_result"
    }
   ],
   "source": [
    "in_channels=64\n",
    "resblock=ResBlock(in_channels,dropout=0.0,activation='silu').to(device)\n",
    "x=torch.rand(1,in_channels,16,16).to(device)\n",
    "y=resblock(x)\n",
    "y.shape"
   ]
  },
  {
   "cell_type": "code",
   "execution_count": 5,
   "metadata": {},
   "outputs": [],
   "source": [
    "class Volume2Triplane(nn.Module):\n",
    "    def __init__(\n",
    "        self,\n",
    "        in_channels,\n",
    "        out_channels,\n",
    "        volume_size,\n",
    "        sh_degree=0,\n",
    "        model_channels=64,\n",
    "        num_res_blocks=3,\n",
    "        dropout=0.0,\n",
    "    ):\n",
    "        assert (\n",
    "            in_channels == 3 * (sh_degree + 1) * (sh_degree + 1) + 3 + 8\n",
    "        ), f\"input channel is {in_channels}, but expected {3*(sh_degree+1)*(sh_degree+1)+3+8}\"\n",
    "        super().__init__()\n",
    "        self.in_channels = in_channels\n",
    "        self.out_channels = out_channels\n",
    "        self.model_channels = model_channels\n",
    "        self.volume_size = volume_size\n",
    "        self.num_feature_dc = 3\n",
    "        if sh_degree > 0:\n",
    "            self.num_feature_rest = (sh_degree + 1) * (sh_degree + 1) * 3 - 3\n",
    "        \n",
    "        self.triplane_conv_yz=nn.Conv3d(in_channels,in_channels,kernel_size=(volume_size,1,1),stride=(volume_size,1,1),bias=False)\n",
    "        self.triplane_conv_xz=nn.Conv3d(in_channels,in_channels,kernel_size=(1,volume_size,1),stride=(1,volume_size,1),bias=False)\n",
    "        self.triplane_conv_xy=nn.Conv3d(in_channels,in_channels,kernel_size=(1,1,volume_size),stride=(1,1,volume_size),bias=False)\n",
    "        \n",
    "        self.conv_1x=nn.Conv2d(in_channels,model_channels,3,1,1)\n",
    "        self.conv_1y=nn.Conv2d(in_channels,model_channels,3,1,1)\n",
    "        self.conv_1z=nn.Conv2d(in_channels,model_channels,3,1,1)\n",
    "        \n",
    "        model_x=nn.ModuleList()\n",
    "        model_y=nn.ModuleList()\n",
    "        model_z=nn.ModuleList()\n",
    "        \n",
    "        for i in range(num_res_blocks):\n",
    "            model_x.append(ResBlock(model_channels,dropout=dropout,activation='silu'))\n",
    "            model_y.append(ResBlock(model_channels,dropout=dropout,activation='silu'))\n",
    "            model_z.append(ResBlock(model_channels,dropout=dropout,activation='silu'))\n",
    "        \n",
    "        self.model_x=model_x\n",
    "        self.model_y=model_y\n",
    "        self.model_z=model_z\n",
    "        \n",
    "        self.out_conv=nn.Conv2d(model_channels,out_channels,3,1,1)\n",
    "        \n",
    "\n",
    "    def forward(self, x):\n",
    "        B,C,H,W,D=x.shape\n",
    "        yz=self.triplane_conv_yz(x) # (B, C, 1, H, W)\n",
    "        xz=self.triplane_conv_xz(x) # (B, C, H, 1, W)\n",
    "        xy=self.triplane_conv_xy(x) # (B, C, H, W, 1)\n",
    "        \n",
    "        yz=yz.reshape(B,C,H,W) # (B, C, H, W)\n",
    "        xz=xz.reshape(B,C,H,W) # (B, C, H, W)\n",
    "        xy=xy.reshape(B,C,H,W) # (B, C, H, W)\n",
    "        \n",
    "        yz=self.conv_1x(yz) # (B, model_channels, H, W)\n",
    "        xz=self.conv_1y(xz) # (B, model_channels, H, W)\n",
    "        xy=self.conv_1z(xy) # (B, model_channels, H, W)\n",
    "        \n",
    "        for res_x,res_y,res_z in zip(self.model_x,self.model_y,self.model_z):\n",
    "            yz=res_x(yz) # (B, model_channels, H, W)\n",
    "            xz=res_y(xz) # (B, model_channels, H, W)\n",
    "            xy=res_z(xy) # (B, model_channels, H, W)\n",
    "        \n",
    "        x=torch.cat([yz.unsqueeze(-1),xz.unsqueeze(-1),xy.unsqueeze(-1)],dim=-1).permute(0,4,1,2,3) # (B, 3, model_channels, H, W)\n",
    "        x=x.reshape(B*3,self.model_channels,H,W) # (B*3, model_channels, H, W\n",
    "        x=self.out_conv(x) # (B*3, out_channels, H, W)\n",
    "        x=x.reshape(B,3,self.out_channels,H,W)\n",
    "        \n",
    "        return x"
   ]
  },
  {
   "cell_type": "code",
   "execution_count": 6,
   "metadata": {},
   "outputs": [],
   "source": [
    "model = Volume2Triplane(59, 3, 16, 3)\n",
    "model = model.to(device)"
   ]
  },
  {
   "cell_type": "code",
   "execution_count": 7,
   "metadata": {},
   "outputs": [],
   "source": [
    "x = torch.rand(1, 59, 16, 16, 16)\n",
    "x = x.to(device)"
   ]
  },
  {
   "cell_type": "code",
   "execution_count": 8,
   "metadata": {},
   "outputs": [
    {
     "name": "stdout",
     "output_type": "stream",
     "text": [
      "torch.Size([1, 3, 3, 16, 16])\n"
     ]
    }
   ],
   "source": [
    "out = model(x)\n",
    "print(out.shape)"
   ]
  },
  {
   "cell_type": "markdown",
   "metadata": {},
   "source": [
    "# Add VGG Net"
   ]
  },
  {
   "cell_type": "code",
   "execution_count": 9,
   "metadata": {},
   "outputs": [],
   "source": [
    "import torch\n",
    "from torch import nn\n",
    "\n",
    "\n",
    "# Classfier\n",
    "class Classfier(nn.Module):\n",
    "    def __init__(self, num_labels=1000, in_features=3*3*16*16):\n",
    "        super(Classfier, self).__init__()\n",
    "        \n",
    "        self.classifier = nn.Sequential(\n",
    "            nn.Linear(in_features, 4096),\n",
    "            nn.ReLU(),\n",
    "            nn.Dropout(p=0.5),\n",
    "            nn.Linear(4096, 4096),\n",
    "            nn.ReLU(),\n",
    "            nn.Dropout(p=0.5),\n",
    "            nn.Linear(4096, num_labels),\n",
    "        )\n",
    "        self.init_weights()\n",
    "\n",
    "    def init_weights(self):\n",
    "        for layer in self.classifier:\n",
    "            if isinstance(layer, nn.Conv2d):\n",
    "                nn.init.normal_(layer.weight, mean=0, std=0.01**2)\n",
    "                nn.init.constant_(layer.bias, val=0)\n",
    "            elif isinstance(layer, nn.Linear):\n",
    "                nn.init.normal_(layer.weight, mean=0, std=0.01**2)\n",
    "                nn.init.constant_(layer.bias, val=0)\n",
    "\n",
    "    def forward(self, x):\n",
    "        x = torch.flatten(x, start_dim=1)\n",
    "        x = self.classifier(x)\n",
    "        return x"
   ]
  },
  {
   "cell_type": "code",
   "execution_count": 10,
   "metadata": {},
   "outputs": [],
   "source": [
    "classfier = Classfier(216, 3*3*16*16)\n",
    "classfier = classfier.to(device)"
   ]
  },
  {
   "cell_type": "code",
   "execution_count": 11,
   "metadata": {},
   "outputs": [],
   "source": [
    "x = torch.rand(1, 59, 16, 16, 16)\n",
    "x = x.to(device)"
   ]
  },
  {
   "cell_type": "code",
   "execution_count": 12,
   "metadata": {},
   "outputs": [
    {
     "name": "stdout",
     "output_type": "stream",
     "text": [
      "torch.Size([1, 216])\n"
     ]
    }
   ],
   "source": [
    "out = model(x)\n",
    "out = classfier(out)\n",
    "print(out.shape)"
   ]
  },
  {
   "cell_type": "markdown",
   "metadata": {},
   "source": [
    "# Dataset and DataLoader"
   ]
  },
  {
   "cell_type": "code",
   "execution_count": 13,
   "metadata": {},
   "outputs": [],
   "source": [
    "from torch.utils.data import DataLoader, Dataset\n",
    "import os\n",
    "import random"
   ]
  },
  {
   "cell_type": "code",
   "execution_count": 14,
   "metadata": {},
   "outputs": [],
   "source": [
    "class OmniObject3D_Dataset(Dataset):\n",
    "    def __init__(self, root_dir,test=False):\n",
    "        super().__init__()\n",
    "        self.root_dir = root_dir\n",
    "        obj_names = [f for f in os.listdir(root_dir) if f.endswith(\".pt\")]\n",
    "        classes = [f.split(\"_\")[0] for f in obj_names]\n",
    "        classes = list(set(classes))\n",
    "        class_to_obj = dict()\n",
    "        for obj_name in obj_names:\n",
    "            class_name = obj_name.split(\"_\")[0]\n",
    "            if class_name not in class_to_obj.keys():\n",
    "                class_to_obj[class_name] = []\n",
    "            class_to_obj[class_name].append(os.path.join(root_dir, obj_name))\n",
    "            \n",
    "        if test:\n",
    "            for class_name in class_to_obj.keys():\n",
    "                class_to_obj[class_name]=class_to_obj[class_name][len(class_to_obj[class_name])*4//5:]\n",
    "        else:\n",
    "            for class_name in class_to_obj.keys():\n",
    "                class_to_obj[class_name]=class_to_obj[class_name][:len(class_to_obj[class_name])*4//5]\n",
    "        self.classes = classes\n",
    "        self.shuffle_classes = random.shuffle(self.classes.copy())\n",
    "        self.class_to_obj = class_to_obj\n",
    "        self.obj_names = obj_names\n",
    "    \n",
    "    def __len__(self):\n",
    "        return len(self.obj_names)\n",
    "    \n",
    "    def __getitem__(self, idx):\n",
    "        class_=self.classes[idx%len(self.classes)]\n",
    "        obj_path= random.choice(self.class_to_obj[class_])\n",
    "        obj = torch.load(obj_path)\n",
    "        target=self.classes.index(class_)\n",
    "        target = torch.tensor(target)\n",
    "        return obj, target\n",
    "    \n",
    "    def get_classes(self):\n",
    "        return self.classes"
   ]
  },
  {
   "cell_type": "code",
   "execution_count": 15,
   "metadata": {},
   "outputs": [],
   "source": [
    "train_dataset = OmniObject3D_Dataset(root_dir=\"/data/OmniObject3D/GaussianCube/4096/volume_act\")\n",
    "test_dataset = OmniObject3D_Dataset(root_dir=\"/data/OmniObject3D/GaussianCube/4096/volume_act\", test=True)"
   ]
  },
  {
   "cell_type": "markdown",
   "metadata": {},
   "source": [
    "# Training"
   ]
  },
  {
   "cell_type": "code",
   "execution_count": 16,
   "metadata": {},
   "outputs": [],
   "source": [
    "batch_size=128\n",
    "device='cuda:1'\n",
    "learning_rate=1e-3\n",
    "epochs=10\n",
    "data_type=torch.float32"
   ]
  },
  {
   "cell_type": "code",
   "execution_count": 17,
   "metadata": {},
   "outputs": [],
   "source": [
    "train_dataloader=DataLoader(train_dataset, batch_size=batch_size, shuffle=True)\n",
    "test_dataloader=DataLoader(test_dataset, batch_size=batch_size, shuffle=False)"
   ]
  },
  {
   "cell_type": "code",
   "execution_count": 18,
   "metadata": {},
   "outputs": [],
   "source": [
    "model = Volume2Triplane(59, 3, 16, 3)\n",
    "model = model.to(device)\n",
    "classfier=Classfier(216, 3*3*16*16)\n",
    "classfier=classfier.to(device)"
   ]
  },
  {
   "cell_type": "code",
   "execution_count": 19,
   "metadata": {},
   "outputs": [],
   "source": [
    "loss_fn = nn.CrossEntropyLoss()\n",
    "optimizer=torch.optim.Adam(list(model.parameters())+list(classfier.parameters()), lr=learning_rate)"
   ]
  },
  {
   "cell_type": "code",
   "execution_count": 20,
   "metadata": {},
   "outputs": [
    {
     "name": "stdout",
     "output_type": "stream",
     "text": [
      "epoch: 0, training_loss: 0.045723690461695735, test_loss: 0.04631361302286538, training_accuracy: 0.006981382978723404, test_accuracy: 0.010472074468085107\n",
      "epoch: 1, training_loss: 0.04112843967211766, test_loss: 0.04587282836739174, training_accuracy: 0.03261144883485309, test_accuracy: 0.04356636271529888\n",
      "epoch: 2, training_loss: 0.03440897235988423, test_loss: 0.04484385572819241, training_accuracy: 0.11409257852077001, test_accuracy: 0.08261303191489362\n",
      "epoch: 3, training_loss: 0.03119914351821912, test_loss: 0.04032216508133977, training_accuracy: 0.20355243161094227, test_accuracy: 0.14299962006079028\n",
      "epoch: 4, training_loss: 0.024965962776282036, test_loss: 0.03561637679864148, training_accuracy: 0.3126583080040527, test_accuracy: 0.15528432117527863\n",
      "epoch: 5, training_loss: 0.0219410820161167, test_loss: 0.037854563375027225, training_accuracy: 0.37393142097264437, test_accuracy: 0.19573993161094227\n",
      "epoch: 6, training_loss: 0.019456278736558728, test_loss: 0.03618052171915015, training_accuracy: 0.4467214412360689, test_accuracy: 0.2010274189463019\n",
      "epoch: 7, training_loss: 0.0174000014049938, test_loss: 0.03957848617355995, training_accuracy: 0.49116641337386013, test_accuracy: 0.20599829027355623\n",
      "epoch: 8, training_loss: 0.013670726328250303, test_loss: 0.03849868442610344, training_accuracy: 0.5563022416413373, test_accuracy: 0.2454248986828774\n",
      "epoch: 9, training_loss: 0.012747251140869014, test_loss: 0.03834389132214474, training_accuracy: 0.6168946301925026, test_accuracy: 0.22183700607902737\n"
     ]
    }
   ],
   "source": [
    "training_loss_list=[]\n",
    "test_loss_list=[]\n",
    "training_acc_list=[]\n",
    "test_acc_list=[]\n",
    "for epoch in range(epochs):\n",
    "    training_loss=0\n",
    "    training_accuracy=0\n",
    "    iters=0\n",
    "    for data, target in train_dataloader:\n",
    "        data=data.to(device, dtype=data_type)\n",
    "        target=target.to(device, dtype=torch.long)\n",
    "        data=data.permute(0, 4, 1, 2, 3)\n",
    "        \n",
    "        optimizer.zero_grad()\n",
    "        out=model(data)\n",
    "        out=classfier(out)\n",
    "        loss=loss_fn(out, target)\n",
    "        loss.backward()\n",
    "        optimizer.step()\n",
    "        with torch.no_grad():\n",
    "            training_loss+=loss.item()/out.shape[0]\n",
    "            training_accuracy+=torch.sum(torch.argmax(out, dim=1)==target).item()/out.shape[0]\n",
    "            iters+=1\n",
    "    training_loss/=iters\n",
    "    training_accuracy/=iters\n",
    "    with torch.no_grad():\n",
    "        test_accuracy=0\n",
    "        test_loss=0\n",
    "        iters=0\n",
    "        for data, target in test_dataloader:\n",
    "            data=data.to(device, dtype=data_type)\n",
    "            target=target.to(device)\n",
    "            data=data.permute(0, 4, 1, 2, 3)\n",
    "            out=model(data)\n",
    "            out=classfier(out)\n",
    "            loss=loss_fn(out, target)\n",
    "            test_loss+=loss.item()/out.shape[0]\n",
    "            test_accuracy+=torch.sum(torch.argmax(out, dim=1)==target).item()/out.shape[0]\n",
    "            iters+=1\n",
    "        test_loss/=iters\n",
    "        test_accuracy/=iters\n",
    "        print(f\"epoch: {epoch}, training_loss: {training_loss}, test_loss: {test_loss}, training_accuracy: {training_accuracy}, test_accuracy: {test_accuracy}\")\n",
    "        training_loss_list.append(training_loss)\n",
    "        test_loss_list.append(test_loss)\n",
    "        training_acc_list.append(training_accuracy)\n",
    "        test_acc_list.append(test_accuracy)"
   ]
  },
  {
   "cell_type": "code",
   "execution_count": 21,
   "metadata": {},
   "outputs": [
    {
     "data": {
      "image/png": "[encoded data removed]",
      "text/plain": [
       "<Figure size 640x480 with 1 Axes>"
      ]
     },
     "metadata": {},
     "output_type": "display_data"
    }
   ],
   "source": [
    "import matplotlib.pyplot as plt\n",
    "plt.plot(training_loss_list, label=\"Training Loss\")\n",
    "plt.plot(test_loss_list, label=\"Test Loss\")\n",
    "plt.plot(training_acc_list, label=\"Training Accuracy\")\n",
    "plt.plot(test_acc_list, label=\"Test Accuracy\")\n",
    "plt.legend()\n",
    "plt.show()"
   ]
  }
 ],
 "metadata": {
  "kernelspec": {
   "display_name": "gaussian_splatting",
   "language": "python",
   "name": "python3"
  },
  "language_info": {
   "codemirror_mode": {
    "name": "ipython",
    "version": 3
   },
   "file_extension": ".py",
   "mimetype": "text/x-python",
   "name": "python",
   "nbconvert_exporter": "python",
   "pygments_lexer": "ipython3",
   "version": "3.7.13"
  }
 },
 "nbformat": 4,
 "nbformat_minor": 2
}
